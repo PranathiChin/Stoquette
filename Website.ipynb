from IPython.display import HTML

html_code = """
<!DOCTYPE html>
<html lang="en">
<head>
    <meta charset="UTF-8">
    <meta name="viewport" content="width=device-width, initial-scale=1.0">
    <title>Your Colab Website</title>
    <style>
        body {
            font-family: 'Arial', sans-serif;
            margin: 0;
            padding: 0;
            background-color: #000000;
            color: #333;
        }

        header {
            background-color: #000000;
            padding: 20px;
            text-align: center;
            color: #fff;
        }

        header h1 {
            font-size: 36px; /* Adjust the font size */
            font-family: 'Cursive', cursive; /* Change to a cursive font */
            font-weight: bold; /* Make it bold */
            margin: 0; /* Remove default margin */
        }

        main {
            padding: 20px;
        }

        footer {
            background-color: #000000;
            padding: 10px;
            text-align: center;
            color: #fff;
            position: fixed;
            bottom: 0;
            width: 100%;
        }

        .bubble-container {
      display: flex;
      justify-content: space-around;
      margin-top: 50px;
    }

    .bubble {
      width: 200px;
      height: 150px;
      background-color: #ffffff; /* White background */
      border: 2px solid #000000; /* Black outline */
      border-radius: 15px;
      padding: 15px;
      box-sizing: border-box;
    }

    /* Style for the header inside the bubble */
    .bubble h2 {
      margin: 0;
      color: #333333; /* Dark text color */
    }

    /* Style for the body information inside the bubble */
    .bubble p {
      margin: 10px 0;
      color: #666666; /* Medium gray text color */
    }

    </style>
</head>
<body>

    <header>
        <h1>Stoquette</h1>
    </header>

    <main>
        <h2>Welcome to Your Simple Website</h2>
        <p>This is a basic layout for a website in Colab. You can modify and extend it according to your needs.</p>
        <p>AHHHHH <p>


    <div class="bubble-container">
    <!-- First Bubble -->
    <div class="bubble">
      <h2>Bubble 1</h2>
      <p>Lorem ipsum dolor sit amet, consectetur adipiscing elit. Nulla nec elit vel nisl consectetur commodo.</p>
    </div>

    <!-- Second Bubble -->
    <div class="bubble">
      <h2>Bubble 2</h2>
      <p>Sed do eiusmod tempor incididunt ut labore et dolore magna aliqua. Ut enim ad minim veniam.</p>
    </div>

    <!-- Third Bubble -->
    <div class="bubble">
      <h2>Bubble 3</h2>
      <p>Quis nostrud exercitation ullamco laboris nisi ut aliquip ex ea commodo consequat.</p>
    </div>
  </div>

<p> <p>
<p> <p>
<p> <p>
<p> <p>

    </main>


    <footer>
        <p>&copy; 2024 Your Website. All rights reserved.</p>
    </footer>

</body>
</html>
"""

# Display the HTML code in the Colab output
HTML(html_code)
